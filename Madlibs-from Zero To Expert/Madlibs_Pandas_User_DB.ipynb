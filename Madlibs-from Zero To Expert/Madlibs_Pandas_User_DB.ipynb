{
 "cells": [
  {
   "cell_type": "markdown",
   "id": "2a2e1c26-4bdc-461b-a340-8d9e3c23721d",
   "metadata": {},
   "source": [
    "# Explanation of Changes:\n",
    "\n",
    "## all_madlibs List:\n",
    "#### An empty list all_madlibs is initialized to store all the dictionaries (sets of answers) created during the program's execution.\n",
    "\n",
    "## madlib_counter:\n",
    "#### A global variable madlib_counter is created and initialized to 0. This will serve as the unique ID for each Mad Lib entry.\n",
    "\n",
    "## create_madlib_entry() Function:\n",
    "#### The input gathering and dictionary creation logic are moved into the create_madlib_entry() function.\n",
    "\n",
    "## Inside this function:\n",
    "#### global madlib_counter allows the function to modify the global counter.\n",
    "#### madlib_counter += 1 increments the counter to generate a unique ID.\n",
    "#### The input_dict now includes the \"id\": madlib_counter key-value pair.\n",
    "#### all_madlibs.append(input_dict) adds the dictionary to the all_madlibs list.\n",
    "#### A print statement gives feedback to the user.\n",
    "    \n",
    "## Loop for Multiple Entries:\n",
    "#### A for loop is used to call create_madlib_entry() multiple times (in this case, 3 times). You can change the range() to create more or fewer entries.. \n",
    "#### OR.. you can remove this and make the program call the function as needed. but for example, we will run it 3x and fill it out...\n",
    "    \n",
    "## DataFrame Creation:\n",
    "#### pd.DataFrame(all_madlibs) creates a DataFrame from the all_madlibs list.\n",
    "#### Pandas automatically uses the dictionary keys (including \"id\") as column names.\n",
    "\n",
    "    \n",
    "# How it Works:\n",
    "\n",
    "#### Each time the program runs, it gathers a set of answers and stores them in a dictionary with a unique ID.\n",
    "#### All the dictionaries are collected in the all_madlibs list.\n",
    "#### Finally, a DataFrame is created from the list, allowing you to view and analyze all the sets of answers.\n",
    "#### The unique id column allows you to call up an indvidual row."
   ]
  },
  {
   "cell_type": "code",
   "execution_count": 9,
   "id": "daf252ab-5d7d-45c0-8fd9-ca1b023e0e07",
   "metadata": {},
   "outputs": [
    {
     "name": "stdin",
     "output_type": "stream",
     "text": [
      "Choose A Type of Event/Place:  Disneyland\n",
      "Pick An Adjective:  tasty\n",
      "Pick Another Adjective:  yummy\n",
      "Choose a Noun:  Dog\n",
      "Pick a Plural Noun Related to Food:  meats\n",
      "Pick Another Plural Noun:  elephants\n"
     ]
    },
    {
     "name": "stdout",
     "output_type": "stream",
     "text": [
      " One of the things most TASTY sports fans look forward to at American DISNEYLAND is eating a/an MEATS hot dog. There is nothing more traditional than watching a/an YUMMY ball game and eating a hot DOG drenched in mustard, relish, and ELEPHANTS.\n",
      "Madlib entry 1 created.\n"
     ]
    },
    {
     "name": "stdin",
     "output_type": "stream",
     "text": [
      "Choose A Type of Event/Place:  enthusiastic\n",
      "Pick An Adjective:  baseball\n",
      "Pick Another Adjective:  fast\n",
      "Choose a Noun:  chicken\n",
      "Pick a Plural Noun Related to Food:  cheeses\n",
      "Pick Another Plural Noun:  cats\n"
     ]
    },
    {
     "name": "stdout",
     "output_type": "stream",
     "text": [
      " One of the things most BASEBALL sports fans look forward to at American ENTHUSIASTIC is eating a/an CHEESES hot dog. There is nothing more traditional than watching a/an FAST ball game and eating a hot CHICKEN drenched in mustard, relish, and CATS.\n",
      "Madlib entry 2 created.\n"
     ]
    },
    {
     "name": "stdin",
     "output_type": "stream",
     "text": [
      "Choose A Type of Event/Place:  walmart\n",
      "Pick An Adjective:  avid\n",
      "Pick Another Adjective:  exciting\n",
      "Choose a Noun:  butter\n",
      "Pick a Plural Noun Related to Food:  gravies\n",
      "Pick Another Plural Noun:  poodles\n"
     ]
    },
    {
     "name": "stdout",
     "output_type": "stream",
     "text": [
      " One of the things most AVID sports fans look forward to at American WALMART is eating a/an GRAVIES hot dog. There is nothing more traditional than watching a/an EXCITING ball game and eating a hot BUTTER drenched in mustard, relish, and POODLES.\n",
      "Madlib entry 3 created.\n",
      "\n",
      "DataFrame of All Madlibs:\n",
      "   id           adj      adj2      adj3     noun plural_noun plural_noun2\n",
      "0   1    DISNEYLAND     TASTY     YUMMY      DOG       MEATS    ELEPHANTS\n",
      "1   2  ENTHUSIASTIC  BASEBALL      FAST  CHICKEN     CHEESES         CATS\n",
      "2   3       WALMART      AVID  EXCITING   BUTTER     GRAVIES      POODLES\n"
     ]
    }
   ],
   "source": [
    "import pandas as pd\n",
    "\n",
    "# Initialize a list to store all sets of answers\n",
    "all_madlibs = []\n",
    "madlib_counter = 0  # Initialize a counter for unique IDs\n",
    "\n",
    "def create_madlib_entry():\n",
    "    \"\"\"Gathers madlib inputs and stores them with a unique ID.\"\"\"\n",
    "    global madlib_counter #access the global counter.\n",
    "    madlib_counter += 1 #increment the counter.\n",
    "    a1 = input('Choose A Type of Event/Place: ').upper()\n",
    "    a2 = input('Pick An Adjective: ').upper()\n",
    "    a3 = input('Pick Another Adjective: ').upper()\n",
    "    a4 = input('Choose a Food Noun: ').upper()\n",
    "    a5 = input('Pick a Plural Noun Related to Food: ').upper()\n",
    "    a6 = input('Pick Another Food Noun: ').upper()\n",
    "\n",
    "    input_dict = {\n",
    "        \"id\": madlib_counter, #add the unique ID\n",
    "        \"adj\": a1,\n",
    "        \"adj2\": a2,\n",
    "        \"adj3\": a3,\n",
    "        \"noun\": a4,\n",
    "        \"plural_noun\": a5,\n",
    "        \"plural_noun2\": a6\n",
    "    }\n",
    "    all_madlibs.append(input_dict) #add the dictionary to the list of all madlibs.\n",
    "\n",
    "    madlib2 = f' One of the things most {a2} sports fans look forward to at American  {a1} is eating a/an {a5}. \\\n",
    "    There is nothing more traditional than watching a/an {a3} act and eating {a4} drenched in mustard, relish, and {a6}.'\n",
    "    \n",
    "    print(madlib2)\n",
    "    print(f\"Madlib entry {madlib_counter} created.\") #feedback to user.\n",
    "\n",
    "# Run the madlib creation multiple times\n",
    "for _ in range(3):  # Change the range to get more or fewer sets of answers\n",
    "    create_madlib_entry()\n",
    "\n",
    "# Create a DataFrame from all collected madlibs\n",
    "df_all_madlibs = pd.DataFrame(all_madlibs)\n",
    "\n",
    "print(\"\\nDataFrame of All Madlibs:\")\n",
    "df_all_madlibs"
   ]
  },
  {
   "cell_type": "code",
   "execution_count": 28,
   "id": "32ecc6cc-be3d-4003-bf8c-ae038502bd0b",
   "metadata": {},
   "outputs": [
    {
     "name": "stdout",
     "output_type": "stream",
     "text": [
      "   id           adj      adj2      adj3     noun plural_noun plural_noun2\n",
      "0   1    DISNEYLAND     TASTY     YUMMY      DOG       MEATS    ELEPHANTS\n",
      "1   2  ENTHUSIASTIC  BASEBALL      FAST  CHICKEN     CHEESES         CATS\n",
      "2   3       WALMART      AVID  EXCITING   BUTTER     GRAVIES      POODLES\n"
     ]
    }
   ],
   "source": [
    "print(df_all_madlibs)  # an ugly dataframe"
   ]
  },
  {
   "cell_type": "markdown",
   "id": "75355aa4-a959-43b4-8ba7-cbf21c18b007",
   "metadata": {},
   "source": [
    "# Explanation:\n",
    "\n",
    "### *   fill_madlib_from_dataframe(df, index) Function: Takes the DataFrame (df) and the desired row index as input.\n",
    "\n",
    "### *   Index Validation: It checks if the provided index is valid (within the DataFrame's bounds).\n",
    "\n",
    "### *   Row Extraction: row = df.loc[index] retrieves the row at the specified index as a Pandas Series.\n",
    "\n",
    "### *   Variable Assignment: It extracts the values from the row and assigns them to the variables a1 through a6.\n",
    "\n",
    "### *   Mad Lib Generation: It generates the Mad Lib string using the extracted values.\n",
    "\n",
    "### *   Output: It prints the filled Mad Lib to the console.\n",
    "\n",
    "## Example Usage:\n",
    "#### fill_madlib_from_dataframe(df_all_madlibs, 0) calls the function to fill the Mad Lib using the values from the first row (index 0).\n",
    "\n",
    "#### fill_madlib_from_dataframe(df_all_madlibs, 2) does the same for the third row (index 2).\n",
    "\n",
    "#### The commented line shows what would happen if you entered an index that was out of bounds.\n",
    "\n",
    "\n",
    "## Important Note:\n",
    "#### This code assumes that the df_all_madlibs DataFrame exists and contains the necessary columns.\n",
    "\n",
    "#### If you're running this in a Jupyter Notebook, make sure to execute the previous code cell that creates the DataFrame first. or include this in the original code."
   ]
  },
  {
   "cell_type": "code",
   "execution_count": 15,
   "id": "c2ed0f3a-ef28-48f6-a21a-f44c14dd3614",
   "metadata": {},
   "outputs": [],
   "source": [
    "import pandas as pd\n",
    "\n",
    "# Assuming df_all_madlibs DataFrame exists from the previous code execution\n",
    "\n",
    "def fill_madlib_from_dataframe(df, index):\n",
    "    \"\"\"Fills a Mad Lib from a DataFrame row based on the given index.\"\"\"\n",
    "    if index < 0 or index >= len(df):\n",
    "        print(\"Invalid index.\")\n",
    "        return\n",
    "\n",
    "    row = df.loc[index]  # Get the row at the given index\n",
    "    a1 = row['adj']\n",
    "    a2 = row['adj2']\n",
    "    a3 = row['adj3']\n",
    "    a4 = row['noun']\n",
    "    a5 = row['plural_noun']\n",
    "    a6 = row['plural_noun2']\n",
    "\n",
    "    madlib2 = f' One of the things most {a2} sports fans look forward to at American  {a1} is eating a/an {a5}. \\\n",
    "    There is nothing more traditional than watching a/an {a3} act and eating {a4} drenched in mustard, relish, and {a6}.'\n",
    "\n",
    "\n",
    "    \n",
    "    print(f\"\\nMad Lib from index {index}:\\n{madlib2}\")"
   ]
  },
  {
   "cell_type": "code",
   "execution_count": 17,
   "id": "6e8636a4-efbd-494f-b55b-1e6da5b4c661",
   "metadata": {},
   "outputs": [
    {
     "name": "stdout",
     "output_type": "stream",
     "text": [
      "\n",
      "Mad Lib from index 0:\n",
      " One of the things most TASTY sports fans look forward to at American DISNEYLAND is eating a/an MEATS hot dog. There is nothing more traditional than watching a/an YUMMY ball game and eating a hot DOG drenched in mustard, relish, and ELEPHANTS.\n"
     ]
    }
   ],
   "source": [
    "# Example usage:\n",
    "fill_madlib_from_dataframe(df_all_madlibs, 0)  # Fill Mad Lib from the first row (index 0)\n"
   ]
  },
  {
   "cell_type": "code",
   "execution_count": 19,
   "id": "01951924-865c-48ca-b45b-52e85ec8a058",
   "metadata": {},
   "outputs": [
    {
     "name": "stdout",
     "output_type": "stream",
     "text": [
      "\n",
      "Mad Lib from index 2:\n",
      " One of the things most AVID sports fans look forward to at American WALMART is eating a/an GRAVIES hot dog. There is nothing more traditional than watching a/an EXCITING ball game and eating a hot BUTTER drenched in mustard, relish, and POODLES.\n"
     ]
    }
   ],
   "source": [
    "# Example usage:\n",
    "fill_madlib_from_dataframe(df_all_madlibs, 2)  # Fill Mad Lib from the third row (index 2)"
   ]
  },
  {
   "cell_type": "code",
   "execution_count": 25,
   "id": "80cd55e3-5829-4c18-9942-4eff1edea9a7",
   "metadata": {},
   "outputs": [
    {
     "name": "stdout",
     "output_type": "stream",
     "text": [
      "Invalid index.\n"
     ]
    }
   ],
   "source": [
    "# Example usage:\n",
    "fill_madlib_from_dataframe(df_all_madlibs, 3) #this will create an error if there are not at least 4 rows."
   ]
  },
  {
   "cell_type": "code",
   "execution_count": null,
   "id": "f603eeac-cc14-4ff3-8698-eb83871c1903",
   "metadata": {},
   "outputs": [],
   "source": []
  }
 ],
 "metadata": {
  "kernelspec": {
   "display_name": "Python [conda env:base] *",
   "language": "python",
   "name": "conda-base-py"
  },
  "language_info": {
   "codemirror_mode": {
    "name": "ipython",
    "version": 3
   },
   "file_extension": ".py",
   "mimetype": "text/x-python",
   "name": "python",
   "nbconvert_exporter": "python",
   "pygments_lexer": "ipython3",
   "version": "3.12.3"
  }
 },
 "nbformat": 4,
 "nbformat_minor": 5
}
