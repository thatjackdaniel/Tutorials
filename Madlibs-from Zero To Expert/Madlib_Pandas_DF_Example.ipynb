{
 "cells": [
  {
   "cell_type": "markdown",
   "id": "571e11c2-4c94-4a41-9423-a20506ed6fc9",
   "metadata": {},
   "source": [
    "# Madlibs Dataframe Using Python & Pandas"
   ]
  },
  {
   "cell_type": "markdown",
   "id": "dfd12c21-5390-4fbb-b356-1425e242830b",
   "metadata": {},
   "source": [
    "# Welcome to my beginner tutorial on Pandas Dataframes \n",
    "\n",
    "\n",
    "### We will be utilizing a madlibs program in the style of Kylie Ying from freecodecamp, if you have not seen that video, go watch it. \n",
    "### The concept is straightforward. In order to use pandas, we must import it into our project, so let's do that"
   ]
  },
  {
   "cell_type": "code",
   "execution_count": null,
   "id": "f30a67fd-f6c0-4413-ac08-81a434fe838a",
   "metadata": {},
   "outputs": [],
   "source": [
    "import pandas as pd"
   ]
  },
  {
   "cell_type": "markdown",
   "id": "5de2e5bb-75df-4666-b730-9f2c7fdfabf4",
   "metadata": {},
   "source": [
    "#### the above line imports pandas and nicknames it the common shortcode 'pd'\n",
    "#### Let's paste the madlibs we made into a cell and play it once to populate it with data\n",
    "#### (note: the madlibs we imported is from my madlibs to advanced tutorial, you can copy this one if you like)"
   ]
  },
  {
   "cell_type": "code",
   "execution_count": null,
   "id": "30a605f3-e310-4cb9-bc8d-b5223cb2ff13",
   "metadata": {},
   "outputs": [],
   "source": [
    "a1 = input('Choose A Type of Event/Place: ').upper() # we replaced the names like adj with a simple A-number here\n",
    "a2 = input('Pick An Adjective: ').upper()\n",
    "a3 = input('Pick Another Adjective: ').upper()\n",
    "a4 = input('Choose a Food Noun: ').upper()\n",
    "a5 = input('Pick a Plural Noun Related to Food: ').upper()\n",
    "a6 = input('Pick Another Food Noun: ').upper()\n",
    "\n",
    " # in the dictionary we have replaced the instance names with the corresponding  A-number, further lightening our code\n",
    "\n",
    "# Create a dictionary of the inputs:\n",
    "\n",
    "input_dict = {\n",
    "    \"adj\": a1,\n",
    "    \"adj2\": a2,\n",
    "    \"adj3\": a3,\n",
    "    \"noun\": a4,\n",
    "    \"plural_noun\": a5,\n",
    "    \"plural_noun2\": a6\n",
    "}\n",
    "\n",
    "# Create a list of the inputs:\n",
    "\n",
    "input_list = [a1,a2,a3,a4,a5,a6]\n",
    "\n",
    "\n",
    "# notice here that we dont have to use the A-numbers in the same order we harvested them, we insert whichever number is needed, whrerver it is needed, this is powerful.\n",
    "\n",
    "madlib2 = f' One of the things most {a2} sports fans look forward to at American  {a1} is eating a/an {a5}. \\\n",
    "There is nothing more traditional than watching a/an {a3} act and eating {a4} drenched in mustard, relish, and {a6}.'\n",
    "\n",
    "print(madlib2)\n",
    "\n",
    "# Optional: Print the list and dictionary for verification\n",
    "\n",
    "print(\"\\nInput List:\")\n",
    "print(input_list)\n",
    "\n",
    "print(\"\\nInput Dictionary:\")\n",
    "print(input_dict)"
   ]
  },
  {
   "cell_type": "markdown",
   "id": "35dd1533-a3ad-4f7e-9517-9d5da37c4aa5",
   "metadata": {},
   "source": [
    "### once the cell is run and poplated, you can see that we have a list, a dictionary and we can also call the individual answers outside the lists and dictionaries as a1 thru a6 like this:\n",
    "a1,a2,a3,a4,a5,a6"
   ]
  },
  {
   "cell_type": "code",
   "execution_count": null,
   "id": "88b0379e-e345-4321-b5e5-a84115bcb734",
   "metadata": {},
   "outputs": [],
   "source": [
    "a1,a2,a3,a4,a5,a6"
   ]
  },
  {
   "cell_type": "markdown",
   "id": "c71d7911-174b-4a14-b501-ffe6f695664e",
   "metadata": {},
   "source": [
    "### as you can see, we get the same answers back in the same order as the list and the dictionary and everything is very orderly, let's do something with the data"
   ]
  },
  {
   "cell_type": "code",
   "execution_count": null,
   "id": "1a1e2d55-1014-47ec-8c7c-f23761201e33",
   "metadata": {},
   "outputs": [],
   "source": [
    "# Create DataFrames using different access methods:\n",
    "\n",
    "# 1. DataFrame from the list (using positional access):\n",
    "import pandas as pd\n",
    "df_list = pd.DataFrame([input_list], columns=['Event', 'Adjective1', 'Adjective2', 'Noun', 'Food_Plural', 'Other_Plural'])\n",
    "print(\"\\nDataFrame from List:\")\n",
    "print(df_list)"
   ]
  },
  {
   "cell_type": "markdown",
   "id": "55d45177-3e4d-43fb-96a5-e025ae1b525f",
   "metadata": {},
   "source": [
    "### The simple dataframe above shows our data we have collected in a nice table with column labels, the neat thing about dataframes is that if we just call the instance instead of printing it, we get a fancy dataframe like this:"
   ]
  },
  {
   "cell_type": "code",
   "execution_count": null,
   "id": "e4375538-a024-4b6c-8131-9eda2ece715d",
   "metadata": {},
   "outputs": [],
   "source": [
    "df_list"
   ]
  },
  {
   "cell_type": "code",
   "execution_count": null,
   "id": "77642e79-ae1e-4574-b269-cde4d8cd3650",
   "metadata": {},
   "outputs": [],
   "source": [
    "# 2. DataFrame from the dictionary (using key-based access):\n",
    "import pandas as pd\n",
    "df_dict = pd.DataFrame([input_dict])\n",
    "print(\"\\nDataFrame from Dictionary:\")\n",
    "df_dict # calls a fancy dataframe to print, skipping the print function! "
   ]
  },
  {
   "cell_type": "code",
   "execution_count": null,
   "id": "dc157479-0da2-4961-bd15-d0b5cb787c6f",
   "metadata": {},
   "outputs": [],
   "source": [
    "# 3. DataFrame with specific columns from the dictionary, in a custom order:\n",
    "import pandas as pd\n",
    "custom_columns = ['adj2', 'adj', 'noun', 'plural_noun2']\n",
    "df_custom = pd.DataFrame([{col: input_dict[col] for col in custom_columns}])\n",
    "print(\"\\nDataFrame with Custom Columns:\")\n",
    "df_custom"
   ]
  },
  {
   "cell_type": "code",
   "execution_count": null,
   "id": "b95cb7b0-751c-41fd-b40d-815ac627de81",
   "metadata": {},
   "outputs": [],
   "source": [
    "# 4. DataFrame with rows that are the individual words.\n",
    "import pandas as pd\n",
    "df_word_rows = pd.DataFrame(index=['Event', 'Adjective1', 'Adjective2', 'Noun', 'Food_Plural', 'Other_Plural'], data = input_list, columns = ['Word'])\n",
    "print('\\nDataFrame with word rows:')\n",
    "df_word_rows"
   ]
  },
  {
   "cell_type": "markdown",
   "id": "e0bbb770-73ec-4845-ad27-8ea0e50192c3",
   "metadata": {},
   "source": [
    "## As you can see, the power and flexibility of this from a data science standpoint is HUGE. We have taken in a variety of user inputs, organized them in various ways, we created adictionary to refernce them and we even output the data into a fancy form response (madlib) . Then we output that data in a wat that is useful for charting in a dataframe. "
   ]
  },
  {
   "cell_type": "markdown",
   "id": "53ff0647-e235-42f4-9c6e-82efce7a263d",
   "metadata": {},
   "source": [
    "# Look for the nesxt tutorial in this where we will create a simple database of user responses and generate several sets of answers into the dataframe and into a form. \n",
    "# Next tutorial: Madlibs_Pandas_User_DB"
   ]
  },
  {
   "cell_type": "code",
   "execution_count": null,
   "id": "dddaec32-9cdb-4489-aefb-800211405df4",
   "metadata": {},
   "outputs": [],
   "source": []
  }
 ],
 "metadata": {
  "kernelspec": {
   "display_name": "Python [conda env:base] *",
   "language": "python",
   "name": "conda-base-py"
  },
  "language_info": {
   "codemirror_mode": {
    "name": "ipython",
    "version": 3
   },
   "file_extension": ".py",
   "mimetype": "text/x-python",
   "name": "python",
   "nbconvert_exporter": "python",
   "pygments_lexer": "ipython3",
   "version": "3.12.3"
  }
 },
 "nbformat": 4,
 "nbformat_minor": 5
}
