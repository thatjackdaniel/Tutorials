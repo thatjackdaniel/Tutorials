{
 "cells": [
  {
   "cell_type": "markdown",
   "id": "12f16449-6e4f-4626-bf9d-7e0d2ef6bf39",
   "metadata": {},
   "source": [
    "# A LESSON IN STRING CONCATENATION by JACK DANIEL HOLDEN\n",
    "\n",
    "## String Concatenation:\n",
    "\n",
    "#### Suppose we want to create a string variable that says:\n",
    "\n",
    "# Subscribe to Jack Daniel\n",
    "\n",
    "## Using 'Subscribe to: ' + also using \"youtuber = '____' \" # some string variable"
   ]
  },
  {
   "cell_type": "code",
   "execution_count": 66,
   "id": "bd172150-791e-4c12-9fb0-9fcdf75e5e4a",
   "metadata": {},
   "outputs": [
    {
     "name": "stdout",
     "output_type": "stream",
     "text": [
      "subscribe to Jack Daniel\n",
      "subscribe to Jack Daniel\n",
      "subscribe to Jack Daniel\n",
      "subscribe to {youtuber}\n"
     ]
    }
   ],
   "source": [
    "# a few ways to do this\n",
    "youtuber = 'Jack Daniel'\n",
    "print('subscribe to ' + youtuber) # dont forget to add a space \n",
    "print('subscribe to {}'.format(youtuber)) # the really annoying long way to get there\n",
    "print(f'subscribe to {youtuber}') # this calls the same way as the line above in a simpler, more human way\n",
    "print('subscribe to {youtuber}') # if you write the same string with out the 'f' you will get the curly brackets returned as text"
   ]
  },
  {
   "cell_type": "markdown",
   "id": "c488a388-f2c5-480f-bb07-2dcb299d0f11",
   "metadata": {},
   "source": [
    "### Formatting in String Output\n",
    "\n",
    "As you can see, the cells all return the exact same statement EXCEPT the final statement, and that is because it is simply printing the string as it does not see the formatting in the curly brackets without you telling it to look for it.\n",
    "\n",
    "# Basic Mad Libs in the style of Kylie Ying on FREECODECAMP - a very simple and understandable concept (shift+enter) to run a cell"
   ]
  },
  {
   "cell_type": "code",
   "execution_count": null,
   "id": "462b8aee-3818-4559-95fc-af8c4594964d",
   "metadata": {},
   "outputs": [],
   "source": [
    " # i called these all in UPPER case so that we can see user inputs stand out in the MadLib. You could also Underline etc.\n",
    " # in Kylie Ying's version, the user input wasn't UPPERCASE. I do this as it is an old-school dev way to see input easily\n",
    " # each line defines a seperate word that is needed for the madlib\n",
    " # each input defines clearly for the user the type of input needed\n",
    "# when using two words, always add an_underscore or write it LikeThis\n",
    "# we will insert these into the madlib using simple formatting\n",
    "\n",
    "# this is the link to a PDF that has a ton of madlibs in it. you can pick one from here, highlight the text \n",
    "# and skip a lot of guesswork https://assets.readbrightly.com/wp-content/uploads/2016/10/MadLibsDownload.pdf\n",
    "# or... copy this example below. \n",
    "\n",
    "adj = input('Choose A Food Adjective: ').upper() \n",
    "verb = input(\"Choose A Verb: \").upper() \n",
    "color = input(\"Pick A Color: \").upper()\n",
    "dest  = input('Choose An Exotic Destination: ').upper() \n",
    "famous_person = input('Pick A Famous Person: ').upper() \n",
    "product = input('Pick A Product Or Brand Name: ').upper() \n",
    "\n",
    "\n",
    "\n",
    "madlib = f'Hi, my name is {famous_person}, but my friends call me {adj}. My favorite color is the {color} of sunset \\\n",
    "in {dest} and my favorite thing to do is {verb}. You probably know me from my TV commercial for {product}.' \n",
    "\n",
    "\n",
    "\n",
    "\n",
    "print(madlib) # hit shift +enter... use this command in a new cell to play more and more madlibs "
   ]
  },
  {
   "cell_type": "markdown",
   "id": "c2600b33-9f5e-433c-a355-9f39c5cd885f",
   "metadata": {},
   "source": [
    "## Another Mad Lib Example\n",
    "\n",
    "Here's a completely different mad lib example. Notice where the two are the same. There is still a list of word types with formal inputs. The mad lib is different, but the setup is the same. We have an 'f' statement, and we fill in the blanks with {curly brackets}.\n",
    "\n",
    "# Run this mad lib and do not clear the cell afterwards."
   ]
  },
  {
   "cell_type": "code",
   "execution_count": 68,
   "id": "ab22d274-dc2a-4852-b57e-d61a35fa4cfa",
   "metadata": {},
   "outputs": [
    {
     "name": "stdin",
     "output_type": "stream",
     "text": [
      "Choose A Type of Event/Place:  las vegas\n",
      "Pick An Adjective:  tasty\n",
      "Pik Another Adjective:  delicious\n",
      "Choose a Noun:  couch\n",
      "Pick a Plural Noun Related to Food:  cheeses\n",
      "Pick Another Plural Noun:  giraffes\n"
     ]
    },
    {
     "name": "stdout",
     "output_type": "stream",
     "text": [
      " One of the things most TASTY sports fans look forward to at American LAS VEGAS is eating a/an CHEESES. There is nothing more traditional than watching a/an DELICIOUS act and eating a hot COUCH drenched in mustard, relish, and GIRAFFES.\n"
     ]
    }
   ],
   "source": [
    "noun = input('Choose A Type of Event/Place: ').upper()  # i called these all in UPPER case so that we can see ur inputs stand out in the MadLib. You could also Underline them\n",
    "adj2 = input('Pick An Adjective: ').upper()\n",
    "adj3 = input('Pik Another Adjective: ').upper()\n",
    "noun2 = input('Choose a Noun: ').upper()\n",
    "plural_noun = input('Pick a Plural Noun Related to Food: ').upper()\n",
    "plural_noun2 = input('Pick Another Plural Noun: ').upper()\n",
    "\n",
    "\n",
    "\n",
    "\n",
    "madlib2 = f' One of the things most {adj2} sports fans look forward to at American {noun} is eating a/an \\\n",
    "{plural_noun}. There is nothing more traditional than watching a/an {adj3} act and eating a hot \\\n",
    "{noun2} drenched in mustard, relish, and {plural_noun2}.' \n",
    "\n",
    "\n",
    "\n",
    "\n",
    "print(madlib2)"
   ]
  },
  {
   "cell_type": "markdown",
   "id": "2ad7fe56-9dab-4c8d-aa01-a25a54ca3d92",
   "metadata": {},
   "source": [
    "## Retrieving Instance Data\n",
    "\n",
    "If I write any defined instance name and run it (shift+enter), it will give back the last information most recently populated. Press shift+enter on any cell below:"
   ]
  },
  {
   "cell_type": "code",
   "execution_count": 70,
   "id": "f788a5bd-9883-49d3-872e-204546594b71",
   "metadata": {},
   "outputs": [
    {
     "data": {
      "text/plain": [
       "' One of the things most TASTY sports fans look forward to at American LAS VEGAS is eating a/an CHEESES. There is nothing more traditional than watching a/an DELICIOUS act and eating a hot COUCH drenched in mustard, relish, and GIRAFFES.'"
      ]
     },
     "execution_count": 70,
     "metadata": {},
     "output_type": "execute_result"
    }
   ],
   "source": [
    "madlib2"
   ]
  },
  {
   "cell_type": "code",
   "execution_count": 72,
   "id": "ab83a95b-c667-49fd-b741-14cf8201859c",
   "metadata": {},
   "outputs": [
    {
     "data": {
      "text/plain": [
       "'LAS VEGAS'"
      ]
     },
     "execution_count": 72,
     "metadata": {},
     "output_type": "execute_result"
    }
   ],
   "source": [
    "noun"
   ]
  },
  {
   "cell_type": "code",
   "execution_count": 74,
   "id": "49fe2e9a-5437-4790-9713-1d20e36af4c1",
   "metadata": {},
   "outputs": [
    {
     "data": {
      "text/plain": [
       "'COUCH'"
      ]
     },
     "execution_count": 74,
     "metadata": {},
     "output_type": "execute_result"
    }
   ],
   "source": [
    "noun2"
   ]
  },
  {
   "cell_type": "code",
   "execution_count": 76,
   "id": "6092fcb3-cc35-4178-950c-0b66f947e98f",
   "metadata": {},
   "outputs": [
    {
     "data": {
      "text/plain": [
       "'CHEESES'"
      ]
     },
     "execution_count": 76,
     "metadata": {},
     "output_type": "execute_result"
    }
   ],
   "source": [
    "plural_noun"
   ]
  },
  {
   "cell_type": "markdown",
   "id": "3de6d9e9-73a3-4719-b49c-17ed623b5c1a",
   "metadata": {},
   "source": [
    "#### Implicit List/Dictionary Creation\n",
    "\n",
    "(Notice that we are creating essentially a list or dictionary in the background, except that it has no attachment like a dictionary before the program runs. This is all from input AFTER the program runs. We do essentially have a list or dictionary with answers that we can call up or create INTO a new list OR dictionary. Here is an example of that.)"
   ]
  },
  {
   "cell_type": "markdown",
   "id": "9a4bf1a9-8064-4095-bb92-0d7fdd2ab7e2",
   "metadata": {},
   "source": [
    "# Making List from Inputs"
   ]
  },
  {
   "cell_type": "code",
   "execution_count": 80,
   "id": "e62f2bfa-44d1-4a6c-bb21-9574be788d2e",
   "metadata": {},
   "outputs": [
    {
     "name": "stdout",
     "output_type": "stream",
     "text": [
      "Input List:\n",
      "['LAS VEGAS', 'TASTY', 'DELICIOUS', 'COUCH', 'CHEESES', 'GIRAFFES']\n"
     ]
    }
   ],
   "source": [
    "# Assuming the previous cell has been run and the variables are defined:\n",
    "# adj, adj2, adj3, noun, plural_noun, plural_noun2\n",
    "\n",
    "# Creating a list of the input values:\n",
    "input_list = [noun, adj2, adj3, noun2, plural_noun, plural_noun2]\n",
    "\n",
    "print(\"Input List:\")\n",
    "input_list # worth noting that print(input_list) gives the same result meaning ours is more pythonic, technically"
   ]
  },
  {
   "cell_type": "markdown",
   "id": "d1785268-1c27-4fb6-9fb8-cd932a042145",
   "metadata": {},
   "source": [
    "### Accesing Items from the List in Single and in Slice"
   ]
  },
  {
   "cell_type": "code",
   "execution_count": 82,
   "id": "ac09ab7f-83e9-4e9e-a039-88d5a65ebc09",
   "metadata": {},
   "outputs": [
    {
     "name": "stdout",
     "output_type": "stream",
     "text": [
      "\n",
      "Fifth item in list: CHEESES\n",
      "\n",
      "First 3 items in list: ['LAS VEGAS', 'TASTY', 'DELICIOUS']\n"
     ]
    }
   ],
   "source": [
    "#Example of accesssing individual items from the list.\n",
    "print(f'\\nFifth item in list: {input_list[4]}')\n",
    "#Exmple of pulling multiple items with slice function\n",
    "print(f'\\nFirst 3 items in list: {input_list[0:3]}') # using slice to get multiple items"
   ]
  },
  {
   "cell_type": "markdown",
   "id": "b8c57d72-a0b1-40cc-ae29-d15bfe8eff14",
   "metadata": {},
   "source": [
    "# Dictionary from Inputs"
   ]
  },
  {
   "cell_type": "code",
   "execution_count": 84,
   "id": "04635645-1ebf-447d-ac0b-0295a86d3b95",
   "metadata": {},
   "outputs": [
    {
     "name": "stdout",
     "output_type": "stream",
     "text": [
      "\n",
      "Input Dictionary:\n",
      "{'noun': 'LAS VEGAS', 'adj2': 'TASTY', 'adj3': 'DELICIOUS', 'noun2': 'COUCH', 'plural_noun': 'CHEESES', 'plural_noun2': 'GIRAFFES'}\n"
     ]
    }
   ],
   "source": [
    "# Creating a dictionary of the input values:\n",
    "input_dict = {\n",
    "    \"noun\": noun,\n",
    "    \"adj2\": adj2,\n",
    "    \"adj3\": adj3,\n",
    "    \"noun2\": noun2,\n",
    "    \"plural_noun\": plural_noun,\n",
    "    \"plural_noun2\": plural_noun2\n",
    "}\n",
    "\n",
    "print(\"\\nInput Dictionary:\") # a formal heading\n",
    "print(input_dict)   # call the dictionary to print"
   ]
  },
  {
   "cell_type": "code",
   "execution_count": 88,
   "id": "94ca3e1b-6d3d-49e2-85a6-7f838c8142ce",
   "metadata": {},
   "outputs": [
    {
     "name": "stdout",
     "output_type": "stream",
     "text": [
      "\n",
      "5th word from dictionary: CHEESES\n",
      "\n",
      "Print words 1-3 from dictionary: ('LAS VEGAS', 'TASTY', 'CHEESES')\n"
     ]
    }
   ],
   "source": [
    "#Example of accessing individual items from the dictionary.\n",
    "print(f'\\n5th word from dictionary: {input_dict[\"plural_noun\"]}')\n",
    "#Example of accesing MULTIPLE items from dictioanry\n",
    "print(f'\\nPrint words 1-3 from dictionary: {input_dict[\"noun\"], input_dict[\"adj2\"], input_dict[\"plural_noun\"]}')"
   ]
  },
  {
   "cell_type": "markdown",
   "id": "0e421c47-c2d5-485c-97d1-bcfadfd404a6",
   "metadata": {},
   "source": [
    "# let's add these elements back into the code from the original MadLibs and see what that looks like"
   ]
  },
  {
   "cell_type": "code",
   "execution_count": null,
   "id": "9a602d68-8200-4658-8b4c-6decb1a34b48",
   "metadata": {},
   "outputs": [],
   "source": [
    "noun = input('Choose A Type of Event/Place: ').upper()\n",
    "adj2 = input('Pick An Adjective: ').upper()\n",
    "adj3 = input('Pick Another Adjective: ').upper()\n",
    "noun2 = input('Choose a Food Noun: ').upper()\n",
    "plural_noun = input('Pick a Plural Noun Related to Food: ').upper()\n",
    "plural_noun2 = input('Pick Another Plural Noun: ').upper()\n",
    "\n",
    "# Create a list of the inputs:\n",
    "input_list = [noun, adj2, adj3, noun2, plural_noun, plural_noun2]\n",
    "\n",
    "# Create a dictionary of the inputs:\n",
    "input_dict = {\n",
    "    \"noun\": noun,\n",
    "    \"adj2\": adj2,\n",
    "    \"adj3\": adj3,\n",
    "    \"noun2\": noun2,\n",
    "    \"plural_noun\": plural_noun,\n",
    "    \"plural_noun2\": plural_noun2\n",
    "}\n",
    "\n",
    "madlib2 = f' One of the things most {adj2} sports fans look forward to at American {noun} is eating a/an \\\n",
    "{plural_noun}. There is nothing more traditional than watching a/an {adj3} act and eating a hot \\\n",
    "{noun2} drenched in mustard, relish, and {plural_noun2}.' \n",
    "\n",
    "print(madlib2)"
   ]
  },
  {
   "cell_type": "markdown",
   "id": "fefc7999-0abc-4085-af69-260cfb98ca92",
   "metadata": {},
   "source": [
    "# now we can pull items from it confidently because we know we have created a list and a dictionary with the same identifiers we used to name our instances. Neat!\n",
    "### if you didn't try out the code above, run it and fill in the blanks "
   ]
  },
  {
   "cell_type": "code",
   "execution_count": 92,
   "id": "a6f68424-9042-4560-836c-060cc2f1c5a7",
   "metadata": {},
   "outputs": [
    {
     "name": "stdout",
     "output_type": "stream",
     "text": [
      "\n",
      "Input List:\n",
      "['LAS VEGAS', 'TASTY', 'DELICIOUS', 'COUCH', 'CHEESES', 'GIRAFFES']\n",
      "\n",
      "Input Dictionary:\n",
      "{'noun': 'LAS VEGAS', 'adj2': 'TASTY', 'adj3': 'DELICIOUS', 'noun2': 'COUCH', 'plural_noun': 'CHEESES', 'plural_noun2': 'GIRAFFES'}\n"
     ]
    }
   ],
   "source": [
    "# Optional: Print the list and dictionary for verification\n",
    "print(\"\\nInput List:\")\n",
    "print(input_list)\n",
    "\n",
    "print(\"\\nInput Dictionary:\")\n",
    "print(input_dict)"
   ]
  },
  {
   "cell_type": "markdown",
   "id": "3fdfb8ea-db22-4e54-9fa0-3a0c7543d195",
   "metadata": {},
   "source": [
    "# Numbered Input Method for Form Population\n",
    "\n",
    "Finally, we have this alternative but powerful option for creating populated forms, which is to use a number system like this:"
   ]
  },
  {
   "cell_type": "code",
   "execution_count": 94,
   "id": "cf9a4157-1c13-4318-ad10-0c6f95cb62aa",
   "metadata": {},
   "outputs": [
    {
     "name": "stdin",
     "output_type": "stream",
     "text": [
      "Choose A Type of Event/Place:  circus\n",
      "Pick An Adjective:  icy\n",
      "Pick Another Adjective:  exciting\n",
      "Choose a Food Noun:  muffin\n",
      "Pick a Plural Noun Related to Food:  milkshakes\n",
      "Pick Another Plural Noun:  policemen\n"
     ]
    },
    {
     "name": "stdout",
     "output_type": "stream",
     "text": [
      " One of the things most ICY sports fans look forward to at American  CIRCUS is eating a/an MILKSHAKES. There is nothing more traditional than watching a/an EXCITING act and eating MUFFIN drenched in mustard, relish, and POLICEMEN.\n",
      "\n",
      "Input List:\n",
      "['CIRCUS', 'ICY', 'EXCITING', 'MUFFIN', 'MILKSHAKES', 'POLICEMEN']\n",
      "\n",
      "Input Dictionary:\n",
      "{'noun': 'CIRCUS', 'adj2': 'ICY', 'adj3': 'EXCITING', 'noun2': 'MUFFIN', 'plural_noun': 'MILKSHAKES', 'plural_noun2': 'POLICEMEN'}\n"
     ]
    }
   ],
   "source": [
    "a1 = input('Choose A Type of Event/Place: ').upper() # we replaced the names like adj with a simple A-number here\n",
    "a2 = input('Pick An Adjective: ').upper()\n",
    "a3 = input('Pick Another Adjective: ').upper()\n",
    "a4 = input('Choose a Food Noun: ').upper()\n",
    "a5 = input('Pick a Plural Noun Related to Food: ').upper()\n",
    "a6 = input('Pick Another Plural Noun: ').upper()\n",
    "\n",
    " # in the dictionary we have replaced the instance names with the corresponding  A-number, further lightening our code\n",
    "\n",
    "# Create a dictionary of the inputs:\n",
    "\n",
    "input_dict = {\n",
    "    \"noun\": a1,\n",
    "    \"adj2\": a2,\n",
    "    \"adj3\": a3,\n",
    "    \"noun2\": a4,\n",
    "    \"plural_noun\": a5,\n",
    "    \"plural_noun2\": a6\n",
    "}\n",
    "\n",
    "# Create a list of the inputs:\n",
    "\n",
    "input_list = [a1,a2,a3,a4,a5,a6]\n",
    "\n",
    "\n",
    "# notice here that we dont have to use the A-numbers in the same order we harvested them, we insert whichever number is needed, whrerver it is needed, this is powerful.\n",
    "\n",
    "madlib2 = f' One of the things most {a2} sports fans look forward to at American  {a1} is eating a/an {a5}. \\\n",
    "There is nothing more traditional than watching a/an {a3} act and eating {a4} drenched in mustard, relish, and {a6}.'\n",
    "# we saved a whole line of code where this note is\n",
    "\n",
    "print(madlib2)\n",
    "\n",
    "# Optional: Print the list and dictionary for verification\n",
    "\n",
    "print(\"\\nInput List:\")\n",
    "print(input_list)\n",
    "\n",
    "print(\"\\nInput Dictionary:\")\n",
    "print(input_dict)"
   ]
  },
  {
   "cell_type": "markdown",
   "id": "fa4ec161-9cc5-4b80-ab7c-be31a906b1af",
   "metadata": {},
   "source": [
    "## Diverse Data Access Methods\n",
    "\n",
    "This gives us four very unique ways to access EXACTLY the same user data OR gives us three separate unique identifiers that all work in different ways.\n",
    "\n",
    "It can be incredibly useful to have the data as a dict, list, and as shorthand alphanumeric instances that allow the machine to use the data without the need for human-friendly identifiers."
   ]
  },
  {
   "cell_type": "code",
   "execution_count": 98,
   "id": "49073c6a-62e6-4fc7-aa70-0de903de5c93",
   "metadata": {},
   "outputs": [
    {
     "data": {
      "text/plain": [
       "('CIRCUS', 'ICY', 'EXCITING', 'MUFFIN', 'MILKSHAKES', 'POLICEMEN')"
      ]
     },
     "execution_count": 98,
     "metadata": {},
     "output_type": "execute_result"
    }
   ],
   "source": [
    "input_dict['noun'], input_dict['adj2'],input_dict['adj3'],  input_dict['noun2'], input_dict['plural_noun'], input_dict['plural_noun2']"
   ]
  },
  {
   "cell_type": "code",
   "execution_count": 100,
   "id": "ff719691-9a5c-42c6-ab4d-8d08aff20e15",
   "metadata": {},
   "outputs": [
    {
     "data": {
      "text/plain": [
       "('CIRCUS', 'ICY', 'EXCITING', 'MUFFIN', 'MILKSHAKES', 'POLICEMEN')"
      ]
     },
     "execution_count": 100,
     "metadata": {},
     "output_type": "execute_result"
    }
   ],
   "source": [
    "a1,a2,a3,a4,a5,a6"
   ]
  },
  {
   "cell_type": "code",
   "execution_count": 102,
   "id": "bb3a97e3-f868-4883-8b2b-fe2b8d7ff7c0",
   "metadata": {},
   "outputs": [
    {
     "data": {
      "text/plain": [
       "['CIRCUS', 'ICY', 'EXCITING', 'MUFFIN', 'MILKSHAKES', 'POLICEMEN']"
      ]
     },
     "execution_count": 102,
     "metadata": {},
     "output_type": "execute_result"
    }
   ],
   "source": [
    "input_list"
   ]
  },
  {
   "cell_type": "code",
   "execution_count": 96,
   "id": "45c7980d-a8d3-4f7f-b716-333c6f0257b2",
   "metadata": {},
   "outputs": [
    {
     "data": {
      "text/plain": [
       "['CIRCUS', 'ICY', 'EXCITING', 'MUFFIN', 'MILKSHAKES', 'POLICEMEN']"
      ]
     },
     "execution_count": 96,
     "metadata": {},
     "output_type": "execute_result"
    }
   ],
   "source": [
    "input_list[0:6]"
   ]
  },
  {
   "cell_type": "markdown",
   "id": "21f4c497-6dc5-46d9-8985-79768fdad5df",
   "metadata": {},
   "source": []
  },
  {
   "cell_type": "markdown",
   "id": "3ef1410c-9187-46f1-b691-7c31e31ade30",
   "metadata": {},
   "source": [
    "# Thanks for learning with me! Happy Coding!!"
   ]
  },
  {
   "cell_type": "markdown",
   "id": "0367d71e-a29f-4ba8-9c61-8c594ee77b3c",
   "metadata": {},
   "source": [
    "# Be sure to check out my 'Madlib_Pandas_DF_Example' for an intermediate tutorial you can use with your madlib!"
   ]
  }
 ],
 "metadata": {
  "kernelspec": {
   "display_name": "Python [conda env:base] *",
   "language": "python",
   "name": "conda-base-py"
  },
  "language_info": {
   "codemirror_mode": {
    "name": "ipython",
    "version": 3
   },
   "file_extension": ".py",
   "mimetype": "text/x-python",
   "name": "python",
   "nbconvert_exporter": "python",
   "pygments_lexer": "ipython3",
   "version": "3.12.3"
  }
 },
 "nbformat": 4,
 "nbformat_minor": 5
}
