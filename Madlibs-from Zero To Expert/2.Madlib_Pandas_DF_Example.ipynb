{
 "cells": [
  {
   "cell_type": "markdown",
   "id": "571e11c2-4c94-4a41-9423-a20506ed6fc9",
   "metadata": {},
   "source": [
    "# Madlibs Dataframe Using Python & Pandas"
   ]
  },
  {
   "cell_type": "markdown",
   "id": "dfd12c21-5390-4fbb-b356-1425e242830b",
   "metadata": {},
   "source": [
    "# Welcome to my beginner tutorial on Pandas Dataframes \n",
    "\n",
    "\n",
    "### We will be utilizing a madlibs program in the style of Kylie Ying from freecodecamp, if you have not seen that video, go watch it. \n",
    "### The concept is straightforward. In order to use pandas, we must import it into our project, so let's do that"
   ]
  },
  {
   "cell_type": "code",
   "execution_count": null,
   "id": "f30a67fd-f6c0-4413-ac08-81a434fe838a",
   "metadata": {},
   "outputs": [],
   "source": [
    "import pandas as pd"
   ]
  },
  {
   "cell_type": "markdown",
   "id": "5de2e5bb-75df-4666-b730-9f2c7fdfabf4",
   "metadata": {},
   "source": [
    "#### the above line imports pandas and nicknames it the common shortcode 'pd'\n",
    "#### Let's paste the madlibs we made into a cell and play it once to populate it with data\n",
    "#### (note: the madlibs we imported is from my madlibs to advanced tutorial, you can copy this one if you like)"
   ]
  },
  {
   "cell_type": "code",
   "execution_count": 7,
   "id": "30a605f3-e310-4cb9-bc8d-b5223cb2ff13",
   "metadata": {},
   "outputs": [
    {
     "name": "stdin",
     "output_type": "stream",
     "text": [
      "Choose A Type of Event/Place:  lollapalooza\n",
      "Pick An Adjective:  yummy\n",
      "Pick Another Adjective:  delicious\n",
      "Choose a Food Noun:  cheeses\n",
      "Pick a Plural Noun Related to Food:  sauces\n",
      "Pick Another Plural Noun:  goats\n"
     ]
    },
    {
     "name": "stdout",
     "output_type": "stream",
     "text": [
      " One of the things most YUMMY sports fans look forward to at American  LOLLAPALOOZA is eating a/an SAUCES. There is nothing more traditional than watching a/an DELICIOUS act and eating CHEESES drenched in mustard, relish, and GOATS.\n",
      "\n",
      "Input List:\n",
      "['LOLLAPALOOZA', 'YUMMY', 'DELICIOUS', 'CHEESES', 'SAUCES', 'GOATS']\n",
      "\n",
      "Input Dictionary:\n",
      "{'event': 'LOLLAPALOOZA', 'adj2': 'YUMMY', 'adj3': 'DELICIOUS', 'noun2': 'CHEESES', 'plural_noun': 'SAUCES', 'plural_noun2': 'GOATS'}\n"
     ]
    }
   ],
   "source": [
    "a1 = input('Choose A Type of Event/Place: ').upper() # we replaced the names like adj with a simple A-number here\n",
    "a2 = input('Pick An Adjective: ').upper()\n",
    "a3 = input('Pick Another Adjective: ').upper()\n",
    "a4 = input('Choose a Food Noun: ').upper()\n",
    "a5 = input('Pick a Plural Noun Related to Food: ').upper()\n",
    "a6 = input('Pick Another Plural Noun: ').upper()\n",
    "\n",
    " # in the dictionary we have replaced the instance names with the corresponding  A-number, further lightening our code\n",
    "\n",
    "# Create a dictionary of the inputs:\n",
    "\n",
    "input_dict = {\n",
    "    \"event\": a1,\n",
    "    \"adj2\": a2,\n",
    "    \"adj3\": a3,\n",
    "    \"noun2\": a4,\n",
    "    \"plural_noun\": a5,\n",
    "    \"plural_noun2\": a6\n",
    "}\n",
    "\n",
    "# Create a list of the inputs:\n",
    "\n",
    "input_list = [a1,a2,a3,a4,a5,a6]\n",
    "\n",
    "\n",
    "# notice here that we dont have to use the A-numbers in the same order we harvested them, we insert whichever number is needed, whrerver it is needed, this is powerful.\n",
    "\n",
    "madlib2 = f' One of the things most {a2} sports fans look forward to at American  {a1} is eating a/an {a5}. \\\n",
    "There is nothing more traditional than watching a/an {a3} act and eating {a4} drenched in mustard, relish, and {a6}.'\n",
    "# we saved a whole line of code where this note is\n",
    "\n",
    "print(madlib2)\n",
    "\n",
    "# Optional: Print the list and dictionary for verification\n",
    "\n",
    "print(\"\\nInput List:\")\n",
    "print(input_list)\n",
    "\n",
    "print(\"\\nInput Dictionary:\")\n",
    "print(input_dict)"
   ]
  },
  {
   "cell_type": "markdown",
   "id": "35dd1533-a3ad-4f7e-9517-9d5da37c4aa5",
   "metadata": {},
   "source": [
    "### once the cell is run and poplated, you can see that we have a list, a dictionary and we can also call the individual answers outside the lists and dictionaries as a1 thru a6 like this:\n",
    "a1,a2,a3,a4,a5,a6"
   ]
  },
  {
   "cell_type": "code",
   "execution_count": 9,
   "id": "88b0379e-e345-4321-b5e5-a84115bcb734",
   "metadata": {},
   "outputs": [
    {
     "data": {
      "text/plain": [
       "('LOLLAPALOOZA', 'YUMMY', 'DELICIOUS', 'CHEESES', 'SAUCES', 'GOATS')"
      ]
     },
     "execution_count": 9,
     "metadata": {},
     "output_type": "execute_result"
    }
   ],
   "source": [
    "a1,a2,a3,a4,a5,a6"
   ]
  },
  {
   "cell_type": "markdown",
   "id": "c71d7911-174b-4a14-b501-ffe6f695664e",
   "metadata": {},
   "source": [
    "### as you can see, we get the same answers back in the same order as the list and the dictionary and everything is very orderly, let's do something with the data"
   ]
  },
  {
   "cell_type": "code",
   "execution_count": 11,
   "id": "1a1e2d55-1014-47ec-8c7c-f23761201e33",
   "metadata": {},
   "outputs": [
    {
     "name": "stdout",
     "output_type": "stream",
     "text": [
      "\n",
      "DataFrame from List:\n",
      "          Event Adjective1 Adjective2     Noun Food_Plural Other_Plural\n",
      "0  LOLLAPALOOZA      YUMMY  DELICIOUS  CHEESES      SAUCES        GOATS\n"
     ]
    }
   ],
   "source": [
    "# Create DataFrames using different access methods:\n",
    "\n",
    "# 1. DataFrame from the list (using positional access):\n",
    "import pandas as pd\n",
    "df_list = pd.DataFrame([input_list], columns=['Event', 'Adjective1', 'Adjective2', 'Noun', 'Food_Plural', 'Other_Plural'])\n",
    "print(\"\\nDataFrame from List:\")\n",
    "print(df_list)"
   ]
  },
  {
   "cell_type": "markdown",
   "id": "55d45177-3e4d-43fb-96a5-e025ae1b525f",
   "metadata": {},
   "source": [
    "### The simple dataframe above shows our data we have collected in a nice table with column labels, the neat thing about dataframes is that if we just call the instance instead of print(ing) it, we get a fancy dataframe like this:"
   ]
  },
  {
   "cell_type": "code",
   "execution_count": 13,
   "id": "e4375538-a024-4b6c-8131-9eda2ece715d",
   "metadata": {},
   "outputs": [
    {
     "data": {
      "text/html": [
       "<div>\n",
       "<style scoped>\n",
       "    .dataframe tbody tr th:only-of-type {\n",
       "        vertical-align: middle;\n",
       "    }\n",
       "\n",
       "    .dataframe tbody tr th {\n",
       "        vertical-align: top;\n",
       "    }\n",
       "\n",
       "    .dataframe thead th {\n",
       "        text-align: right;\n",
       "    }\n",
       "</style>\n",
       "<table border=\"1\" class=\"dataframe\">\n",
       "  <thead>\n",
       "    <tr style=\"text-align: right;\">\n",
       "      <th></th>\n",
       "      <th>Event</th>\n",
       "      <th>Adjective1</th>\n",
       "      <th>Adjective2</th>\n",
       "      <th>Noun</th>\n",
       "      <th>Food_Plural</th>\n",
       "      <th>Other_Plural</th>\n",
       "    </tr>\n",
       "  </thead>\n",
       "  <tbody>\n",
       "    <tr>\n",
       "      <th>0</th>\n",
       "      <td>LOLLAPALOOZA</td>\n",
       "      <td>YUMMY</td>\n",
       "      <td>DELICIOUS</td>\n",
       "      <td>CHEESES</td>\n",
       "      <td>SAUCES</td>\n",
       "      <td>GOATS</td>\n",
       "    </tr>\n",
       "  </tbody>\n",
       "</table>\n",
       "</div>"
      ],
      "text/plain": [
       "          Event Adjective1 Adjective2     Noun Food_Plural Other_Plural\n",
       "0  LOLLAPALOOZA      YUMMY  DELICIOUS  CHEESES      SAUCES        GOATS"
      ]
     },
     "execution_count": 13,
     "metadata": {},
     "output_type": "execute_result"
    }
   ],
   "source": [
    "df_list"
   ]
  },
  {
   "cell_type": "code",
   "execution_count": 15,
   "id": "77642e79-ae1e-4574-b269-cde4d8cd3650",
   "metadata": {},
   "outputs": [
    {
     "name": "stdout",
     "output_type": "stream",
     "text": [
      "\n",
      "DataFrame from Dictionary:\n"
     ]
    },
    {
     "data": {
      "text/html": [
       "<div>\n",
       "<style scoped>\n",
       "    .dataframe tbody tr th:only-of-type {\n",
       "        vertical-align: middle;\n",
       "    }\n",
       "\n",
       "    .dataframe tbody tr th {\n",
       "        vertical-align: top;\n",
       "    }\n",
       "\n",
       "    .dataframe thead th {\n",
       "        text-align: right;\n",
       "    }\n",
       "</style>\n",
       "<table border=\"1\" class=\"dataframe\">\n",
       "  <thead>\n",
       "    <tr style=\"text-align: right;\">\n",
       "      <th></th>\n",
       "      <th>event</th>\n",
       "      <th>adj2</th>\n",
       "      <th>adj3</th>\n",
       "      <th>noun2</th>\n",
       "      <th>plural_noun</th>\n",
       "      <th>plural_noun2</th>\n",
       "    </tr>\n",
       "  </thead>\n",
       "  <tbody>\n",
       "    <tr>\n",
       "      <th>0</th>\n",
       "      <td>LOLLAPALOOZA</td>\n",
       "      <td>YUMMY</td>\n",
       "      <td>DELICIOUS</td>\n",
       "      <td>CHEESES</td>\n",
       "      <td>SAUCES</td>\n",
       "      <td>GOATS</td>\n",
       "    </tr>\n",
       "  </tbody>\n",
       "</table>\n",
       "</div>"
      ],
      "text/plain": [
       "          event   adj2       adj3    noun2 plural_noun plural_noun2\n",
       "0  LOLLAPALOOZA  YUMMY  DELICIOUS  CHEESES      SAUCES        GOATS"
      ]
     },
     "execution_count": 15,
     "metadata": {},
     "output_type": "execute_result"
    }
   ],
   "source": [
    "# 2. DataFrame from the dictionary (using key-based access):\n",
    "import pandas as pd\n",
    "df_dict = pd.DataFrame([input_dict])\n",
    "print(\"\\nDataFrame from Dictionary:\")\n",
    "df_dict # calls a fancy dataframe to print, skipping the print function! "
   ]
  },
  {
   "cell_type": "code",
   "execution_count": 33,
   "id": "dc157479-0da2-4961-bd15-d0b5cb787c6f",
   "metadata": {},
   "outputs": [
    {
     "name": "stdout",
     "output_type": "stream",
     "text": [
      "\n",
      "DataFrame with Custom Columns:\n"
     ]
    },
    {
     "data": {
      "text/html": [
       "<div>\n",
       "<style scoped>\n",
       "    .dataframe tbody tr th:only-of-type {\n",
       "        vertical-align: middle;\n",
       "    }\n",
       "\n",
       "    .dataframe tbody tr th {\n",
       "        vertical-align: top;\n",
       "    }\n",
       "\n",
       "    .dataframe thead th {\n",
       "        text-align: right;\n",
       "    }\n",
       "</style>\n",
       "<table border=\"1\" class=\"dataframe\">\n",
       "  <thead>\n",
       "    <tr style=\"text-align: right;\">\n",
       "      <th></th>\n",
       "      <th>event</th>\n",
       "      <th>adj2</th>\n",
       "      <th>adj3</th>\n",
       "      <th>noun2</th>\n",
       "      <th>plural_noun</th>\n",
       "      <th>plural_noun2</th>\n",
       "    </tr>\n",
       "  </thead>\n",
       "  <tbody>\n",
       "    <tr>\n",
       "      <th>0</th>\n",
       "      <td>LOLLAPALOOZA</td>\n",
       "      <td>YUMMY</td>\n",
       "      <td>DELICIOUS</td>\n",
       "      <td>CHEESES</td>\n",
       "      <td>SAUCES</td>\n",
       "      <td>GOATS</td>\n",
       "    </tr>\n",
       "  </tbody>\n",
       "</table>\n",
       "</div>"
      ],
      "text/plain": [
       "          event   adj2       adj3    noun2 plural_noun plural_noun2\n",
       "0  LOLLAPALOOZA  YUMMY  DELICIOUS  CHEESES      SAUCES        GOATS"
      ]
     },
     "execution_count": 33,
     "metadata": {},
     "output_type": "execute_result"
    }
   ],
   "source": [
    "custom_columns = ['event', 'adj2', 'adj3', 'noun2', 'plural_noun', 'plural_noun2'] # Corrected column names to match dictionary keys.\n",
    "df_custom = pd.DataFrame([{col: input_dict[col] for col in custom_columns}])\n",
    "print(\"\\nDataFrame with Custom Columns:\")\n",
    "df_custom"
   ]
  },
  {
   "cell_type": "code",
   "execution_count": 35,
   "id": "b95cb7b0-751c-41fd-b40d-815ac627de81",
   "metadata": {},
   "outputs": [
    {
     "name": "stdout",
     "output_type": "stream",
     "text": [
      "\n",
      "DataFrame with word rows:\n"
     ]
    },
    {
     "data": {
      "text/html": [
       "<div>\n",
       "<style scoped>\n",
       "    .dataframe tbody tr th:only-of-type {\n",
       "        vertical-align: middle;\n",
       "    }\n",
       "\n",
       "    .dataframe tbody tr th {\n",
       "        vertical-align: top;\n",
       "    }\n",
       "\n",
       "    .dataframe thead th {\n",
       "        text-align: right;\n",
       "    }\n",
       "</style>\n",
       "<table border=\"1\" class=\"dataframe\">\n",
       "  <thead>\n",
       "    <tr style=\"text-align: right;\">\n",
       "      <th></th>\n",
       "      <th>Word</th>\n",
       "    </tr>\n",
       "  </thead>\n",
       "  <tbody>\n",
       "    <tr>\n",
       "      <th>Event</th>\n",
       "      <td>LOLLAPALOOZA</td>\n",
       "    </tr>\n",
       "    <tr>\n",
       "      <th>Adjective1</th>\n",
       "      <td>YUMMY</td>\n",
       "    </tr>\n",
       "    <tr>\n",
       "      <th>Adjective2</th>\n",
       "      <td>DELICIOUS</td>\n",
       "    </tr>\n",
       "    <tr>\n",
       "      <th>Noun</th>\n",
       "      <td>CHEESES</td>\n",
       "    </tr>\n",
       "    <tr>\n",
       "      <th>Food_Plural</th>\n",
       "      <td>SAUCES</td>\n",
       "    </tr>\n",
       "    <tr>\n",
       "      <th>Other_Plural</th>\n",
       "      <td>GOATS</td>\n",
       "    </tr>\n",
       "  </tbody>\n",
       "</table>\n",
       "</div>"
      ],
      "text/plain": [
       "                      Word\n",
       "Event         LOLLAPALOOZA\n",
       "Adjective1           YUMMY\n",
       "Adjective2       DELICIOUS\n",
       "Noun               CHEESES\n",
       "Food_Plural         SAUCES\n",
       "Other_Plural         GOATS"
      ]
     },
     "execution_count": 35,
     "metadata": {},
     "output_type": "execute_result"
    }
   ],
   "source": [
    "# 4. DataFrame with rows that are the individual words.\n",
    "import pandas as pd\n",
    "df_word_rows = pd.DataFrame(index=['Event', 'Adjective1', 'Adjective2', 'Noun', 'Food_Plural', 'Other_Plural'], data = input_list, columns = ['Word'])\n",
    "print('\\nDataFrame with word rows:')\n",
    "df_word_rows"
   ]
  },
  {
   "cell_type": "markdown",
   "id": "e0bbb770-73ec-4845-ad27-8ea0e50192c3",
   "metadata": {},
   "source": [
    "## As you can see, the power and flexibility of this from a data science standpoint is HUGE. We have taken in a variety of user inputs, organized them in various ways, we created adictionary to refernce them and we even output the data into a fancy form response (madlib) . Then we output that data in a wat that is useful for charting in a dataframe. "
   ]
  },
  {
   "cell_type": "markdown",
   "id": "53ff0647-e235-42f4-9c6e-82efce7a263d",
   "metadata": {},
   "source": [
    "# Look for the nesxt tutorial in this where we will create a simple database of user responses and generate several sets of answers into the dataframe and into a form. \n",
    "# Next tutorial: Madlibs_Pandas_User_DB"
   ]
  },
  {
   "cell_type": "code",
   "execution_count": null,
   "id": "dddaec32-9cdb-4489-aefb-800211405df4",
   "metadata": {},
   "outputs": [],
   "source": []
  }
 ],
 "metadata": {
  "kernelspec": {
   "display_name": "Python [conda env:base] *",
   "language": "python",
   "name": "conda-base-py"
  },
  "language_info": {
   "codemirror_mode": {
    "name": "ipython",
    "version": 3
   },
   "file_extension": ".py",
   "mimetype": "text/x-python",
   "name": "python",
   "nbconvert_exporter": "python",
   "pygments_lexer": "ipython3",
   "version": "3.12.3"
  }
 },
 "nbformat": 4,
 "nbformat_minor": 5
}
