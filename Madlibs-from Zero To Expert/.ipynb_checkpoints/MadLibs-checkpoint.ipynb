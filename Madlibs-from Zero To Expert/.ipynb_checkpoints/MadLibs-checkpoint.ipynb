{
 "cells": [
  {
   "cell_type": "markdown",
   "id": "12f16449-6e4f-4626-bf9d-7e0d2ef6bf39",
   "metadata": {},
   "source": [
    "# string concantenation - \n",
    "#### suppose we want to create a\n",
    "#### string variable that says 'Subscribe to '\n",
    "youtuber = '' # some string varuable"
   ]
  },
  {
   "cell_type": "code",
   "execution_count": 13,
   "id": "bd172150-791e-4c12-9fb0-9fcdf75e5e4a",
   "metadata": {},
   "outputs": [
    {
     "name": "stdout",
     "output_type": "stream",
     "text": [
      "subscribe to Jack Daniel\n",
      "subscribe to Jack Daniel\n",
      "subscribe to Jack Daniel\n"
     ]
    }
   ],
   "source": [
    "# a few ways to do this\n",
    "youtuber = 'Jack Daniel'\n",
    "print('subscribe to ' + youtuber) # dont forget to add a space \n",
    "print('subscribe to {}'.format(youtuber))\n",
    "print(f'subscribe to {youtuber}')"
   ]
  },
  {
   "cell_type": "code",
   "execution_count": 29,
   "id": "462b8aee-3818-4559-95fc-af8c4594964d",
   "metadata": {},
   "outputs": [
    {
     "name": "stdin",
     "output_type": "stream",
     "text": [
      "Choose an Adjective:  happy\n",
      "Choose a Verb:  peeing\n",
      "Choose anither Verb:  flying\n",
      "Pick a Famous Person:  mike dukakis\n"
     ]
    },
    {
     "name": "stdout",
     "output_type": "stream",
     "text": [
      "Computer programming is so happy! it makes me so excited that i am peeing. Stay high and flying like you are mike dukakis!\n"
     ]
    }
   ],
   "source": [
    "adj = input('Choose an Adjective: ')\n",
    "verb1 = input(\"Choose a Verb: \")\n",
    "verb2 = input(\"Choose anither Verb: \")\n",
    "famous_person = input('Pick a Famous Person: ')\n",
    "\n",
    "madlib = f'Computer programming is so {adj}! it makes me so excited that i am \\\n",
    "{verb1}. Stay high and {verb2} like you are {famous_person}!'\n",
    "\n",
    "print(madlib)"
   ]
  },
  {
   "cell_type": "code",
   "execution_count": null,
   "id": "ab22d274-dc2a-4852-b57e-d61a35fa4cfa",
   "metadata": {},
   "outputs": [],
   "source": []
  }
 ],
 "metadata": {
  "kernelspec": {
   "display_name": "Python [conda env:base] *",
   "language": "python",
   "name": "conda-base-py"
  },
  "language_info": {
   "codemirror_mode": {
    "name": "ipython",
    "version": 3
   },
   "file_extension": ".py",
   "mimetype": "text/x-python",
   "name": "python",
   "nbconvert_exporter": "python",
   "pygments_lexer": "ipython3",
   "version": "3.12.3"
  }
 },
 "nbformat": 4,
 "nbformat_minor": 5
}
