{
 "cells": [
  {
   "cell_type": "markdown",
   "id": "2a2e1c26-4bdc-461b-a340-8d9e3c23721d",
   "metadata": {},
   "source": [
    "# Explanation of Changes:\n",
    "\n",
    "## all_madlibs List:\n",
    "#### An empty list all_madlibs is initialized to store all the dictionaries (sets of answers) created during the program's execution.\n",
    "\n",
    "## madlib_counter:\n",
    "#### A global variable madlib_counter is created and initialized to 0. This will serve as the unique ID for each Mad Lib entry.\n",
    "\n",
    "## create_madlib_entry() Function:\n",
    "#### The input gathering and dictionary creation logic are moved into the create_madlib_entry() function.\n",
    "\n",
    "## Inside this function:\n",
    "#### global madlib_counter allows the function to modify the global counter.\n",
    "#### madlib_counter += 1 increments the counter to generate a unique ID.\n",
    "#### The input_dict now includes the \"id\": madlib_counter key-value pair.\n",
    "#### all_madlibs.append(input_dict) adds the dictionary to the all_madlibs list.\n",
    "#### A print statement gives feedback to the user.\n",
    "    \n",
    "## Loop for Multiple Entries:\n",
    "#### A for loop is used to call create_madlib_entry() multiple times (in this case, 3 times). You can change the range() to create more or fewer entries.. \n",
    "#### OR.. you can remove this and make the program call the function as needed. but for example, we will run it 3x and fill it out...\n",
    "    \n",
    "## DataFrame Creation:\n",
    "#### pd.DataFrame(all_madlibs) creates a DataFrame from the all_madlibs list.\n",
    "#### Pandas automatically uses the dictionary keys (including \"id\") as column names.\n",
    "\n",
    "    \n",
    "# How it Works:\n",
    "\n",
    "#### Each time the program runs, it gathers a set of answers and stores them in a dictionary with a unique ID.\n",
    "#### All the dictionaries are collected in the all_madlibs list.\n",
    "#### Finally, a DataFrame is created from the list, allowing you to view and analyze all the sets of answers.\n",
    "#### The unique id column allows you to call up an indvidual row."
   ]
  },
  {
   "cell_type": "code",
   "execution_count": 6,
   "id": "daf252ab-5d7d-45c0-8fd9-ca1b023e0e07",
   "metadata": {},
   "outputs": [
    {
     "name": "stdin",
     "output_type": "stream",
     "text": [
      "Choose A Type of Event/Place:  the zoo\n",
      "Pick An Adjective:  frozen\n",
      "Pick Another Adjective:  sunny\n",
      "Choose a Food Noun:  steamy\n",
      "Pick a Plural Noun Related to Food:  eggs\n",
      "Pick Another Food Noun:  candy apple\n"
     ]
    },
    {
     "name": "stdout",
     "output_type": "stream",
     "text": [
      " One of the things most FROZEN sports fans look forward to at American  THE ZOO is eating a/an EGGS.     There is nothing more traditional than watching a/an SUNNY act and eating STEAMY drenched in mustard, relish, and CANDY APPLE.\n",
      "Madlib entry 1 created.\n"
     ]
    },
    {
     "name": "stdin",
     "output_type": "stream",
     "text": [
      "Choose A Type of Event/Place:  motocross race\n",
      "Pick An Adjective:  dusty\n",
      "Pick Another Adjective:  deliscious\n",
      "Choose a Food Noun:  burger\n",
      "Pick a Plural Noun Related to Food:  fries\n",
      "Pick Another Food Noun:  goatmilk\n"
     ]
    },
    {
     "name": "stdout",
     "output_type": "stream",
     "text": [
      " One of the things most DUSTY sports fans look forward to at American  MOTOCROSS RACE is eating a/an FRIES.     There is nothing more traditional than watching a/an DELISCIOUS act and eating BURGER drenched in mustard, relish, and GOATMILK.\n",
      "Madlib entry 2 created.\n"
     ]
    },
    {
     "name": "stdin",
     "output_type": "stream",
     "text": [
      "Choose A Type of Event/Place:  undergroundmine\n",
      "Pick An Adjective:  cold\n",
      "Pick Another Adjective:  hot\n",
      "Choose a Food Noun:  rice\n",
      "Pick a Plural Noun Related to Food:  eggs\n",
      "Pick Another Food Noun:  milk\n"
     ]
    },
    {
     "name": "stdout",
     "output_type": "stream",
     "text": [
      " One of the things most COLD sports fans look forward to at American  UNDERGROUNDMINE is eating a/an EGGS.     There is nothing more traditional than watching a/an HOT act and eating RICE drenched in mustard, relish, and MILK.\n",
      "Madlib entry 3 created.\n",
      "\n",
      "DataFrame of All Madlibs:\n"
     ]
    },
    {
     "data": {
      "text/html": [
       "<div>\n",
       "<style scoped>\n",
       "    .dataframe tbody tr th:only-of-type {\n",
       "        vertical-align: middle;\n",
       "    }\n",
       "\n",
       "    .dataframe tbody tr th {\n",
       "        vertical-align: top;\n",
       "    }\n",
       "\n",
       "    .dataframe thead th {\n",
       "        text-align: right;\n",
       "    }\n",
       "</style>\n",
       "<table border=\"1\" class=\"dataframe\">\n",
       "  <thead>\n",
       "    <tr style=\"text-align: right;\">\n",
       "      <th></th>\n",
       "      <th>id</th>\n",
       "      <th>event</th>\n",
       "      <th>adj2</th>\n",
       "      <th>adj3</th>\n",
       "      <th>noun2</th>\n",
       "      <th>plural_noun</th>\n",
       "      <th>plural_noun2</th>\n",
       "    </tr>\n",
       "  </thead>\n",
       "  <tbody>\n",
       "    <tr>\n",
       "      <th>0</th>\n",
       "      <td>1</td>\n",
       "      <td>THE ZOO</td>\n",
       "      <td>FROZEN</td>\n",
       "      <td>SUNNY</td>\n",
       "      <td>STEAMY</td>\n",
       "      <td>EGGS</td>\n",
       "      <td>CANDY APPLE</td>\n",
       "    </tr>\n",
       "    <tr>\n",
       "      <th>1</th>\n",
       "      <td>2</td>\n",
       "      <td>MOTOCROSS RACE</td>\n",
       "      <td>DUSTY</td>\n",
       "      <td>DELISCIOUS</td>\n",
       "      <td>BURGER</td>\n",
       "      <td>FRIES</td>\n",
       "      <td>GOATMILK</td>\n",
       "    </tr>\n",
       "    <tr>\n",
       "      <th>2</th>\n",
       "      <td>3</td>\n",
       "      <td>UNDERGROUNDMINE</td>\n",
       "      <td>COLD</td>\n",
       "      <td>HOT</td>\n",
       "      <td>RICE</td>\n",
       "      <td>EGGS</td>\n",
       "      <td>MILK</td>\n",
       "    </tr>\n",
       "  </tbody>\n",
       "</table>\n",
       "</div>"
      ],
      "text/plain": [
       "   id            event    adj2        adj3   noun2 plural_noun plural_noun2\n",
       "0   1          THE ZOO  FROZEN       SUNNY  STEAMY        EGGS  CANDY APPLE\n",
       "1   2   MOTOCROSS RACE   DUSTY  DELISCIOUS  BURGER       FRIES     GOATMILK\n",
       "2   3  UNDERGROUNDMINE    COLD         HOT    RICE        EGGS         MILK"
      ]
     },
     "execution_count": 6,
     "metadata": {},
     "output_type": "execute_result"
    }
   ],
   "source": [
    "import pandas as pd\n",
    "\n",
    "# Initialize a list to store all sets of answers\n",
    "all_madlibs = []\n",
    "madlib_counter = 0  # Initialize a counter for unique IDs\n",
    "\n",
    "def create_madlib_entry():\n",
    "    \"\"\"Gathers madlib inputs and stores them with a unique ID.\"\"\"\n",
    "    global madlib_counter #access the global counter.\n",
    "    madlib_counter += 1 #increment the counter.\n",
    "    a1 = input('Choose A Type of Event/Place: ').upper()\n",
    "    a2 = input('Pick An Adjective: ').upper()\n",
    "    a3 = input('Pick Another Adjective: ').upper()\n",
    "    a4 = input('Choose a Food Noun: ').upper()\n",
    "    a5 = input('Pick a Plural Noun Related to Food: ').upper()\n",
    "    a6 = input('Pick Another Food Noun: ').upper()\n",
    "\n",
    "    input_dict = {\n",
    "        \"id\": madlib_counter, #add the unique ID\n",
    "        \"event\": a1,\n",
    "        \"adj2\": a2,\n",
    "        \"adj3\": a3,\n",
    "        \"noun2\": a4,\n",
    "        \"plural_noun\": a5,\n",
    "        \"plural_noun2\": a6\n",
    "    }\n",
    "    all_madlibs.append(input_dict) #add the dictionary to the list of all madlibs.\n",
    "\n",
    "    madlib2 = f' One of the things most {a2} sports fans look forward to at American  {a1} is eating a/an {a5}. \\\n",
    "    There is nothing more traditional than watching a/an {a3} act and eating {a4} drenched in mustard, relish, and {a6}.'\n",
    "    \n",
    "    print(madlib2)\n",
    "    print(f\"Madlib entry {madlib_counter} created.\") #feedback to user.\n",
    "\n",
    "# Run the madlib creation multiple times\n",
    "for _ in range(3):  # Change the range to get more or fewer sets of answers\n",
    "    create_madlib_entry()\n",
    "\n",
    "# Create a DataFrame from all collected madlibs\n",
    "df_all_madlibs = pd.DataFrame(all_madlibs)\n",
    "\n",
    "print(\"\\nDataFrame of All Madlibs:\")\n",
    "df_all_madlibs"
   ]
  },
  {
   "cell_type": "code",
   "execution_count": 10,
   "id": "32ecc6cc-be3d-4003-bf8c-ae038502bd0b",
   "metadata": {},
   "outputs": [
    {
     "data": {
      "text/html": [
       "<div>\n",
       "<style scoped>\n",
       "    .dataframe tbody tr th:only-of-type {\n",
       "        vertical-align: middle;\n",
       "    }\n",
       "\n",
       "    .dataframe tbody tr th {\n",
       "        vertical-align: top;\n",
       "    }\n",
       "\n",
       "    .dataframe thead th {\n",
       "        text-align: right;\n",
       "    }\n",
       "</style>\n",
       "<table border=\"1\" class=\"dataframe\">\n",
       "  <thead>\n",
       "    <tr style=\"text-align: right;\">\n",
       "      <th></th>\n",
       "      <th>id</th>\n",
       "      <th>event</th>\n",
       "      <th>adj2</th>\n",
       "      <th>adj3</th>\n",
       "      <th>noun2</th>\n",
       "      <th>plural_noun</th>\n",
       "      <th>plural_noun2</th>\n",
       "    </tr>\n",
       "  </thead>\n",
       "  <tbody>\n",
       "    <tr>\n",
       "      <th>0</th>\n",
       "      <td>1</td>\n",
       "      <td>THE ZOO</td>\n",
       "      <td>FROZEN</td>\n",
       "      <td>SUNNY</td>\n",
       "      <td>STEAMY</td>\n",
       "      <td>EGGS</td>\n",
       "      <td>CANDY APPLE</td>\n",
       "    </tr>\n",
       "    <tr>\n",
       "      <th>1</th>\n",
       "      <td>2</td>\n",
       "      <td>MOTOCROSS RACE</td>\n",
       "      <td>DUSTY</td>\n",
       "      <td>DELISCIOUS</td>\n",
       "      <td>BURGER</td>\n",
       "      <td>FRIES</td>\n",
       "      <td>GOATMILK</td>\n",
       "    </tr>\n",
       "    <tr>\n",
       "      <th>2</th>\n",
       "      <td>3</td>\n",
       "      <td>UNDERGROUNDMINE</td>\n",
       "      <td>COLD</td>\n",
       "      <td>HOT</td>\n",
       "      <td>RICE</td>\n",
       "      <td>EGGS</td>\n",
       "      <td>MILK</td>\n",
       "    </tr>\n",
       "  </tbody>\n",
       "</table>\n",
       "</div>"
      ],
      "text/plain": [
       "   id            event    adj2        adj3   noun2 plural_noun plural_noun2\n",
       "0   1          THE ZOO  FROZEN       SUNNY  STEAMY        EGGS  CANDY APPLE\n",
       "1   2   MOTOCROSS RACE   DUSTY  DELISCIOUS  BURGER       FRIES     GOATMILK\n",
       "2   3  UNDERGROUNDMINE    COLD         HOT    RICE        EGGS         MILK"
      ]
     },
     "execution_count": 10,
     "metadata": {},
     "output_type": "execute_result"
    }
   ],
   "source": [
    "df_all_madlibs  # an ugly dataframe"
   ]
  },
  {
   "cell_type": "markdown",
   "id": "75355aa4-a959-43b4-8ba7-cbf21c18b007",
   "metadata": {},
   "source": [
    "# Explanation:\n",
    "\n",
    "### *   fill_madlib_from_dataframe(df, index) Function: Takes the DataFrame (df) and the desired row index as input.\n",
    "\n",
    "### *   Index Validation: It checks if the provided index is valid (within the DataFrame's bounds).\n",
    "\n",
    "### *   Row Extraction: row = df.loc[index] retrieves the row at the specified index as a Pandas Series.\n",
    "\n",
    "### *   Variable Assignment: It extracts the values from the row and assigns them to the variables a1 through a6.\n",
    "\n",
    "### *   Mad Lib Generation: It generates the Mad Lib string using the extracted values.\n",
    "\n",
    "### *   Output: It prints the filled Mad Lib to the console.\n",
    "\n",
    "## Example Usage:\n",
    "#### fill_madlib_from_dataframe(df_all_madlibs, 0) calls the function to fill the Mad Lib using the values from the first row (index 0).\n",
    "\n",
    "#### fill_madlib_from_dataframe(df_all_madlibs, 2) does the same for the third row (index 2).\n",
    "\n",
    "#### The commented line shows what would happen if you entered an index that was out of bounds.\n",
    "\n",
    "\n",
    "## Important Note:\n",
    "#### This code assumes that the df_all_madlibs DataFrame exists and contains the necessary columns.\n",
    "\n",
    "#### If you're running this in a Jupyter Notebook, make sure to execute the previous code cell that creates the DataFrame first. or include this in the original code."
   ]
  },
  {
   "cell_type": "code",
   "execution_count": 18,
   "id": "e8f40b8a-68f7-4d66-bd41-8ae020fb09d5",
   "metadata": {},
   "outputs": [],
   "source": [
    "import pandas as pd\n",
    "\n",
    "# Assuming df_all_madlibs DataFrame exists from the previous code execution\n",
    "\n",
    "def fill_madlib_from_dataframe(df, index):\n",
    "    \"\"\"Fills a Mad Lib from a DataFrame row based on the given index.\"\"\"\n",
    "    if index < 0 or index >= len(df):\n",
    "        print(\"Invalid index.\")\n",
    "        return\n",
    "\n",
    "    row = df.loc[index]  # Get the row at the given index\n",
    "    a1 = row['event']\n",
    "    a2 = row['adj2']\n",
    "    a3 = row['adj3']\n",
    "    a4 = row['noun2']\n",
    "    a5 = row['plural_noun']\n",
    "    a6 = row['plural_noun2']\n",
    "\n",
    "    madlib2 = f' One of the things most {a2} sports fans look forward to at American  {a1} is eating a/an {a5}. \\\n",
    "    There is nothing more traditional than watching a/an {a3} act and eating {a4} drenched in mustard, relish, and {a6}.'\n",
    "\n",
    "\n",
    "    \n",
    "    print(f\"\\nMad Lib from index {index}:\\n{madlib2}\")"
   ]
  },
  {
   "cell_type": "code",
   "execution_count": 26,
   "id": "6e8636a4-efbd-494f-b55b-1e6da5b4c661",
   "metadata": {},
   "outputs": [
    {
     "name": "stdout",
     "output_type": "stream",
     "text": [
      "\n",
      "Mad Lib from index 0:\n",
      " One of the things most FROZEN sports fans look forward to at American  THE ZOO is eating a/an EGGS.     There is nothing more traditional than watching a/an SUNNY act and eating STEAMY drenched in mustard, relish, and CANDY APPLE.\n"
     ]
    }
   ],
   "source": [
    "# Example usage:\n",
    "fill_madlib_from_dataframe(df_all_madlibs, 0)  # Fill Mad Lib from the first row (index 0)\n"
   ]
  },
  {
   "cell_type": "code",
   "execution_count": 22,
   "id": "01951924-865c-48ca-b45b-52e85ec8a058",
   "metadata": {},
   "outputs": [
    {
     "name": "stdout",
     "output_type": "stream",
     "text": [
      "\n",
      "Mad Lib from index 2:\n",
      " One of the things most COLD sports fans look forward to at American  UNDERGROUNDMINE is eating a/an EGGS.     There is nothing more traditional than watching a/an HOT act and eating RICE drenched in mustard, relish, and MILK.\n"
     ]
    }
   ],
   "source": [
    "# Example usage:\n",
    "fill_madlib_from_dataframe(df_all_madlibs, 2)  # Fill Mad Lib from the third row (index 2)"
   ]
  },
  {
   "cell_type": "code",
   "execution_count": 28,
   "id": "80cd55e3-5829-4c18-9942-4eff1edea9a7",
   "metadata": {},
   "outputs": [
    {
     "name": "stdout",
     "output_type": "stream",
     "text": [
      "\n",
      "Mad Lib from index 1:\n",
      " One of the things most DUSTY sports fans look forward to at American  MOTOCROSS RACE is eating a/an FRIES.     There is nothing more traditional than watching a/an DELISCIOUS act and eating BURGER drenched in mustard, relish, and GOATMILK.\n"
     ]
    }
   ],
   "source": [
    "# Example usage:\n",
    "fill_madlib_from_dataframe(df_all_madlibs, 1) #this will create an error if there are not at least 4 rows."
   ]
  },
  {
   "cell_type": "code",
   "execution_count": null,
   "id": "f603eeac-cc14-4ff3-8698-eb83871c1903",
   "metadata": {},
   "outputs": [],
   "source": []
  }
 ],
 "metadata": {
  "kernelspec": {
   "display_name": "Python [conda env:base] *",
   "language": "python",
   "name": "conda-base-py"
  },
  "language_info": {
   "codemirror_mode": {
    "name": "ipython",
    "version": 3
   },
   "file_extension": ".py",
   "mimetype": "text/x-python",
   "name": "python",
   "nbconvert_exporter": "python",
   "pygments_lexer": "ipython3",
   "version": "3.12.3"
  }
 },
 "nbformat": 4,
 "nbformat_minor": 5
}
